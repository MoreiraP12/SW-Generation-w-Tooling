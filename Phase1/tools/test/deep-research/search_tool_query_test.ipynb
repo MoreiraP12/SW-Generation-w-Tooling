{
 "cells": [
  {
   "cell_type": "code",
   "execution_count": 4,
   "id": "230c091a",
   "metadata": {},
   "outputs": [
    {
     "name": "stderr",
     "output_type": "stream",
     "text": [
      "[nltk_data] Downloading package punkt_tab to /Users/pedro/nltk_data...\n",
      "[nltk_data]   Unzipping tokenizers/punkt_tab.zip.\n"
     ]
    },
    {
     "data": {
      "text/plain": [
       "True"
      ]
     },
     "execution_count": 4,
     "metadata": {},
     "output_type": "execute_result"
    }
   ],
   "source": [
    "nltk.download('punkt_tab')"
   ]
  },
  {
   "cell_type": "code",
   "execution_count": 5,
   "id": "51b69a5d",
   "metadata": {},
   "outputs": [
    {
     "name": "stdout",
     "output_type": "stream",
     "text": [
      "Downloading wordnet...\n"
     ]
    },
    {
     "name": "stderr",
     "output_type": "stream",
     "text": [
      "[nltk_data] Downloading package wordnet to /Users/pedro/nltk_data...\n",
      "[nltk_data]   Package wordnet is already up-to-date!\n"
     ]
    },
    {
     "name": "stdout",
     "output_type": "stream",
     "text": [
      "Query type: factual\n",
      "Expanded queries: ['What is quantum computing?', 'What is quantum computer science?', 'What is quantum calculation?']\n",
      "Downloading wordnet...\n",
      "Requires deep research: True\n",
      "Search strategy: {'search_depth': 'deep', 'recommended_engines': ['google_scholar', 'semantic_scholar', 'pubmed'], 'recommended_filters': ['academic', 'pdf'], 'crawl_depth': 3}\n"
     ]
    },
    {
     "name": "stderr",
     "output_type": "stream",
     "text": [
      "[nltk_data] Downloading package wordnet to /Users/pedro/nltk_data...\n",
      "[nltk_data]   Package wordnet is already up-to-date!\n"
     ]
    }
   ],
   "source": [
    "from deep_research.query import process_query\n",
    "\n",
    "# Process a simple factual query\n",
    "result = process_query(\"What is quantum computing?\")\n",
    "print(f\"Query type: {result['query_type']['primary_type']}\")\n",
    "print(f\"Expanded queries: {result['expanded_queries']}\")\n",
    "\n",
    "# Process a research query with deep research requirements\n",
    "result = process_query(\"Comprehensive analysis of machine learning applications in healthcare\")\n",
    "print(f\"Requires deep research: {result['query_type']['requires_deep_research']}\")\n",
    "print(f\"Search strategy: {result['query_type']['search_strategy']}\")"
   ]
  },
  {
   "cell_type": "code",
   "execution_count": null,
   "id": "3e6fcaed",
   "metadata": {},
   "outputs": [],
   "source": []
  }
 ],
 "metadata": {
  "kernelspec": {
   "display_name": ".venv",
   "language": "python",
   "name": "python3"
  },
  "language_info": {
   "codemirror_mode": {
    "name": "ipython",
    "version": 3
   },
   "file_extension": ".py",
   "mimetype": "text/x-python",
   "name": "python",
   "nbconvert_exporter": "python",
   "pygments_lexer": "ipython3",
   "version": "3.12.10"
  }
 },
 "nbformat": 4,
 "nbformat_minor": 5
}
