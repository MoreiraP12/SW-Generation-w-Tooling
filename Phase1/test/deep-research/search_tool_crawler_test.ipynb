{
 "cells": [
  {
   "cell_type": "code",
   "execution_count": 1,
   "id": "98928618",
   "metadata": {},
   "outputs": [
    {
     "name": "stdout",
     "output_type": "stream",
     "text": [
      "Downloading punkt_tab...\n",
      "Downloading wordnet...\n"
     ]
    },
    {
     "name": "stderr",
     "output_type": "stream",
     "text": [
      "[nltk_data] Downloading package punkt_tab to /Users/pedro/nltk_data...\n",
      "[nltk_data]   Package punkt_tab is already up-to-date!\n",
      "[nltk_data] Downloading package wordnet to /Users/pedro/nltk_data...\n",
      "[nltk_data]   Package wordnet is already up-to-date!\n",
      "2025-04-30 14:13:43,612 - deep_research.crawler - INFO - Loading summarization model: facebook/bart-large-cnn\n",
      "Device set to use mps:0\n",
      "2025-04-30 14:13:45,165 - deep_research.crawler - INFO - Loading relevance model: cross-encoder/ms-marco-MiniLM-L-6-v2\n",
      "Device set to use mps:0\n",
      "2025-04-30 14:13:45,420 - deep_research.crawler - INFO - Loading QA model: deepset/roberta-base-squad2\n"
     ]
    },
    {
     "data": {
      "application/vnd.jupyter.widget-view+json": {
       "model_id": "3d72389d4db6482b94fd224f2ec37622",
       "version_major": 2,
       "version_minor": 0
      },
      "text/plain": [
       "model.safetensors:  97%|#########7| 482M/496M [00:00<?, ?B/s]"
      ]
     },
     "metadata": {},
     "output_type": "display_data"
    },
    {
     "data": {
      "application/vnd.jupyter.widget-view+json": {
       "model_id": "db426c04ca244d178c69896d0c2a62b2",
       "version_major": 2,
       "version_minor": 0
      },
      "text/plain": [
       "tokenizer_config.json:   0%|          | 0.00/79.0 [00:00<?, ?B/s]"
      ]
     },
     "metadata": {},
     "output_type": "display_data"
    },
    {
     "data": {
      "application/vnd.jupyter.widget-view+json": {
       "model_id": "aca97969196542b4b5dda3bd5d64ef1e",
       "version_major": 2,
       "version_minor": 0
      },
      "text/plain": [
       "vocab.json:   0%|          | 0.00/899k [00:00<?, ?B/s]"
      ]
     },
     "metadata": {},
     "output_type": "display_data"
    },
    {
     "data": {
      "application/vnd.jupyter.widget-view+json": {
       "model_id": "43eb344d3cc04b6b8c0d58c468f1cfd1",
       "version_major": 2,
       "version_minor": 0
      },
      "text/plain": [
       "merges.txt:   0%|          | 0.00/456k [00:00<?, ?B/s]"
      ]
     },
     "metadata": {},
     "output_type": "display_data"
    },
    {
     "data": {
      "application/vnd.jupyter.widget-view+json": {
       "model_id": "b17ee2fd1e194c2888a69d445f8918d8",
       "version_major": 2,
       "version_minor": 0
      },
      "text/plain": [
       "special_tokens_map.json:   0%|          | 0.00/772 [00:00<?, ?B/s]"
      ]
     },
     "metadata": {},
     "output_type": "display_data"
    },
    {
     "name": "stderr",
     "output_type": "stream",
     "text": [
      "Device set to use mps:0\n"
     ]
    },
    {
     "name": "stdout",
     "output_type": "stream",
     "text": [
      "[SearchResult(url='https://www.sportingnews.com/uk/football/news/arsenal-vs-psg-score-result-updates-stats-champions-league/3003377ce5f00dddbcc795e8',\n",
      "              title='Arsenal vs. PSG final score: UEFA Champions League '\n",
      "                    'result, stats as ...',\n",
      "              snippet='Arsenalvs.PSGkick off time The Champions League '\n",
      "                      'semifinal, first leg kicks off in London at 8 p.m. '\n",
      "                      \"local time. Here's how that time translates across some \"\n",
      "                      'of the major territories:',\n",
      "              source_engine='duckduckgo',\n",
      "              rank=1,\n",
      "              date=None,\n",
      "              domain='www.sportingnews.com/uk/football/news/arsenal-vs-psg-score-result-updates-stats-champions-league/3003377ce5f00dddbcc795e8',\n",
      "              content_type='webpage',\n",
      "              is_pdf=False,\n",
      "              metadata={}),\n",
      " SearchResult(url='https://en.as.com/soccer/arsenal-vs-psg-live-online-score-stats-goals-updates-champions-league-semifinal-n/',\n",
      "              title='Arsenal vs PSG live online: goals, score, updates & '\n",
      "                    'stats| Champions ...',\n",
      "              snippet='A tough night forArsenal;PSGthrilled with win.PSGwill '\n",
      "                      'be delighted with thatresultafter a strong performance '\n",
      "                      'across the 90 minutes away from home.. The first half '\n",
      "                      'of the game saw the away ...',\n",
      "              source_engine='duckduckgo',\n",
      "              rank=2,\n",
      "              date=None,\n",
      "              domain='en.as.com/soccer/arsenal-vs-psg-live-online-score-stats-goals-updates-champions-league-semifinal-n/',\n",
      "              content_type='webpage',\n",
      "              is_pdf=False,\n",
      "              metadata={}),\n",
      " SearchResult(url='https://www.msn.com/en-us/sports/soccer/arsenal-vs-psg-live-champions-league-match-stream-latest-score-updates-after-dembele-goal/ar-AA1DRcG2',\n",
      "              title='Arsenal vs PSG LIVE: Champions League result, latest '\n",
      "                    'updates and ... - MSN',\n",
      "              snippet='LIVE - Updated at 22:27.ArsenalvsPSGLIVE!. Paris '\n",
      "                      'Saint-Germain took a big step towards reaching the '\n",
      "                      \"Champions League final as Ousmane Dembele's early goal \"\n",
      "                      'sealed a 1-0 win atArsenalin a ...',\n",
      "              source_engine='duckduckgo',\n",
      "              rank=3,\n",
      "              date=None,\n",
      "              domain='www.msn.com/en-us/sports/soccer/arsenal-vs-psg-live-champions-league-match-stream-latest-score-updates-after-dembele-goal/ar-AA1DRcG2',\n",
      "              content_type='webpage',\n",
      "              is_pdf=False,\n",
      "              metadata={}),\n",
      " SearchResult(url='https://talksport.com/football/3162013/arsenal-psg-live-result-reaction-highlights-champions-league-arteta-dembele-injury/',\n",
      "              title='Arsenal 0-1 PSG LIVE REACTION: Rooney takes aim at '\n",
      "                    \"'subdued' fans after ...\",\n",
      "              snippet=\"Arsenal'sChampions League dreams are hanging by a \"\n",
      "                      'thread after a damaging 1-0 defeat at home to Paris '\n",
      "                      'Saint-Germain. The Gunners romped to a 2-0 win '\n",
      "                      'overPSGin October, but any hopes of a s…',\n",
      "              source_engine='duckduckgo',\n",
      "              rank=4,\n",
      "              date=None,\n",
      "              domain='talksport.com/football/3162013/arsenal-psg-live-result-reaction-highlights-champions-league-arteta-dembele-injury/',\n",
      "              content_type='webpage',\n",
      "              is_pdf=False,\n",
      "              metadata={}),\n",
      " SearchResult(url='https://www.usatoday.com/story/sports/soccer/2025/04/29/arsenal-vs-psg-champions-league-tv-score-highlights/83341774007/',\n",
      "              title='Arsenal vs PSG Champions League highlights: Dembele goal, '\n",
      "                    'final score',\n",
      "              snippet='PSGbeatArsenal1-0 on Tuesday in the first leg of the '\n",
      "                      'UEFA Champions League semifinals, and will bring that '\n",
      "                      'advantage to Paris for a dramatic finale next week, 90 '\n",
      "                      'minutes away from reaching the ...',\n",
      "              source_engine='duckduckgo',\n",
      "              rank=5,\n",
      "              date=None,\n",
      "              domain='www.usatoday.com/story/sports/soccer/2025/04/29/arsenal-vs-psg-champions-league-tv-score-highlights/83341774007/',\n",
      "              content_type='webpage',\n",
      "              is_pdf=False,\n",
      "              metadata={}),\n",
      " SearchResult(url='https://www.independent.co.uk/sport/football/arsenal-psg-live-stream-score-result-champions-league-b2741784.html',\n",
      "              title='Arsenal v PSG LIVE: Champions League result, final score '\n",
      "                    'and goals from ...',\n",
      "              snippet='He approachesfootballmatches like a Formula One grand '\n",
      "                      'prix, as though whoever gets to the first bend in the '\n",
      "                      'lead wins, even if they need a pit stop and a couple of '\n",
      "                      'new tyres somewhere along the way.',\n",
      "              source_engine='duckduckgo',\n",
      "              rank=6,\n",
      "              date=None,\n",
      "              domain='www.independent.co.uk/sport/football/arsenal-psg-live-stream-score-result-champions-league-b2741784.html',\n",
      "              content_type='webpage',\n",
      "              is_pdf=False,\n",
      "              metadata={}),\n",
      " SearchResult(url='https://www.bbc.com/sport/football/live/clyqdmn0drgt',\n",
      "              title='Arsenal vs PSG LIVE: Champions League score, team news, '\n",
      "                    'radio & updates',\n",
      "              snippet=\"Use 'watch & listen' tab to follow 5 Live Final Score \"\n",
      "                      'updates and radio commentary Kick-off 20:00 BST Get '\n",
      "                      'Involved: #bbcfootball, via WhatsApp on 03301231826 or '\n",
      "                      'text 81111 (UK only, standard ...',\n",
      "              source_engine='duckduckgo',\n",
      "              rank=7,\n",
      "              date=None,\n",
      "              domain='www.bbc.com/sport/football/live/clyqdmn0drgt',\n",
      "              content_type='webpage',\n",
      "              is_pdf=False,\n",
      "              metadata={}),\n",
      " SearchResult(url='https://metro.co.uk/2025/04/29/arsenal-vs-psg-live-champions-league-latest-score-confirmed-lineups-22995633/',\n",
      "              title='Arsenal 0-1 PSG: Ousmane Dembele silences Emirates in '\n",
      "                    'Champions ... - Metro',\n",
      "              snippet='Clinton Morrison, watching thematchfor Sky Sports, just '\n",
      "                      \"said: 'Every player atPSGis comfortable in \"\n",
      "                      \"possession.'Arsenalhave just got to keep believing at \"\n",
      "                      \"the moment. They're still in it.\",\n",
      "              source_engine='duckduckgo',\n",
      "              rank=8,\n",
      "              date=None,\n",
      "              domain='metro.co.uk/2025/04/29/arsenal-vs-psg-live-champions-league-latest-score-confirmed-lineups-22995633/',\n",
      "              content_type='webpage',\n",
      "              is_pdf=False,\n",
      "              metadata={}),\n",
      " SearchResult(url='https://www.sportsmole.co.uk/football/arsenal/champions-league/result/early-dembele-dagger-hands-psg-first-leg-semi-final-lead-over-arsenal_571486.html',\n",
      "              title='Arsenal 0-1 PSG: Highlights, man of the match, stats as '\n",
      "                    \"Luis Enrique's ...\",\n",
      "              snippet='Ousmane Dembele scores early as Paris Saint-Germain '\n",
      "                      'beatArsenal1-0 in the first leg of their Champions '\n",
      "                      'League semi-final at the Emirates. On the one occasion '\n",
      "                      \"Mikel Arteta's men were able to beat ...\",\n",
      "              source_engine='duckduckgo',\n",
      "              rank=9,\n",
      "              date=None,\n",
      "              domain='www.sportsmole.co.uk/football/arsenal/champions-league/result/early-dembele-dagger-hands-psg-first-leg-semi-final-lead-over-arsenal_571486.html',\n",
      "              content_type='webpage',\n",
      "              is_pdf=False,\n",
      "              metadata={}),\n",
      " SearchResult(url='https://www.365scores.com/football/match/uefa-champions-league-572/arsenal-psg-104-480-572',\n",
      "              title='Arsenal VS PSG: Live Scores, Lineups, H2H & Odds',\n",
      "              snippet='Stats forArsenalvs.PSG.ThegamebetweenArsenalandPSGended '\n",
      "                      'with a score ofArsenal0 - 1PSG. On 365Scores, you can '\n",
      "                      'check all the head-to-headresultsbetweenthese teams. '\n",
      "                      'Explore the stats forArsenalandPSG, including ball '\n",
      "                      'possession, goal kicks, yellow and red cards, and much '\n",
      "                      'more! Possession 48% - 52% Expected Goals 1.65 - 1.14 '\n",
      "                      '...',\n",
      "              source_engine='duckduckgo',\n",
      "              rank=10,\n",
      "              date=None,\n",
      "              domain='www.365scores.com/football/match/uefa-champions-league-572/arsenal-psg-104-480-572',\n",
      "              content_type='webpage',\n",
      "              is_pdf=False,\n",
      "              metadata={})]\n"
     ]
    }
   ],
   "source": [
    "from deep_research.query import process_query\n",
    "from deep_research.search import search\n",
    "from deep_research.crawler import WebCrawler\n",
    "import pprint\n",
    "\n",
    "# Process query\n",
    "query = \"What was the result of today's football match between Arsenal and PSG?\"\n",
    "#query = \"when was lincoln born?\"\n",
    "\n",
    "query_result = process_query(query)\n",
    "\n",
    "# Perform search\n",
    "search_results = search(query_result['parsed_query'], engines=['duckduckgo'], max_results=10)\n",
    "\n",
    "# Initialize web crawler\n",
    "crawler = WebCrawler(\n",
    "    cache_dir=\"./cache\",     # Cache directory for fetched pages\n",
    "    respect_robots=True,     # Respect robots.txt directives\n",
    "    requests_per_second=1,   # Ethical crawling rate\n",
    "    max_depth=2,             # How deep to follow links\n",
    "    max_pages_per_site=5     # Maximum pages per website\n",
    ")\n",
    "\n",
    "pprint.pprint(search_results)"
   ]
  },
  {
   "cell_type": "code",
   "execution_count": null,
   "id": "49784e72",
   "metadata": {},
   "outputs": [
    {
     "name": "stderr",
     "output_type": "stream",
     "text": [
      "2025-04-30 14:13:47,943 - deep_research.crawler - INFO - Crawling https://en.as.com/soccer/arsenal-vs-psg-live-online-score-stats-goals-updates-champions-league-semifinal-n/ (depth 0)\n",
      "2025-04-30 14:13:54,220 - deep_research.crawler - INFO - Crawling https://www.msn.com/en-us/sports/soccer/arsenal-vs-psg-live-champions-league-match-stream-latest-score-updates-after-dembele-goal/ar-AA1DRcG2 (depth 0)\n",
      "2025-04-30 14:13:56,758 - deep_research.crawler - INFO - Crawling https://talksport.com/football/3162013/arsenal-psg-live-result-reaction-highlights-champions-league-arteta-dembele-injury/ (depth 0)\n"
     ]
    },
    {
     "name": "stdout",
     "output_type": "stream",
     "text": [
      "Key points about What was the result of today's football match between Arsenal and PSG?:\n",
      "1. Ousmane Dembélé scored the only goal of the game in the first half. Luis Enrique's side dominated the game and will be delighted with the result. Arsenal will now face either Bayern Munich or Real Madrid.\n"
     ]
    }
   ],
   "source": [
    "# Crawl websites from search results\n",
    "crawl_results = crawler.crawl_search_results(\n",
    "    search_results,\n",
    "    query=query,\n",
    "    max_sites=5,            # Limit to top 3 sites\n",
    "    follow_links=True       # Follow links within sites\n",
    ")\n",
    "\n",
    "# Synthesize information from crawl results\n",
    "synthesis = crawler.synthesize_information(crawl_results, query=query)\n",
    "\n",
    "# Print key points\n",
    "print(f\"Key points about {query}:\")\n",
    "for i, point in enumerate(synthesis['key_points'], 1):\n",
    "    print(f\"{i}. {point}\")"
   ]
  },
  {
   "cell_type": "code",
   "execution_count": 3,
   "id": "e90bf8da",
   "metadata": {},
   "outputs": [
    {
     "name": "stderr",
     "output_type": "stream",
     "text": [
      "2025-04-30 14:14:09,841 - deep_research.crawler - INFO - Loading summarization model: facebook/bart-large-cnn\n",
      "Device set to use mps:0\n",
      "2025-04-30 14:14:12,425 - deep_research.crawler - INFO - Loading relevance model: cross-encoder/ms-marco-MiniLM-L-6-v2\n",
      "Device set to use mps:0\n",
      "2025-04-30 14:14:13,048 - deep_research.crawler - INFO - Loading QA model: deepset/roberta-base-squad2\n",
      "Device set to use mps:0\n",
      "2025-04-30 14:14:13,927 - deep_research.crawler - INFO - Crawling https://en.as.com/soccer/arsenal-vs-psg-live-online-score-stats-goals-updates-champions-league-semifinal-n/ (depth 0)\n",
      "2025-04-30 14:14:18,198 - deep_research.crawler - INFO - Crawling https://www.msn.com/en-us/sports/soccer/arsenal-vs-psg-live-champions-league-match-stream-latest-score-updates-after-dembele-goal/ar-AA1DRcG2 (depth 0)\n",
      "2025-04-30 14:14:18,839 - deep_research.crawler - INFO - Crawling https://talksport.com/football/3162013/arsenal-psg-live-result-reaction-highlights-champions-league-arteta-dembele-injury/ (depth 0)\n",
      "2025-04-30 14:14:24,844 - deep_research.crawler - INFO - Crawling https://www.usatoday.com/story/sports/soccer/2025/04/29/arsenal-vs-psg-champions-league-tv-score-highlights/83341774007/ (depth 0)\n",
      "2025-04-30 14:14:25,337 - bs4.dammit - WARNING - Some characters could not be decoded, and were replaced with REPLACEMENT CHARACTER.\n",
      "2025-04-30 14:14:25,587 - deep_research.crawler - INFO - Crawling https://www.independent.co.uk/sport/football/arsenal-psg-live-stream-score-result-champions-league-b2741784.html (depth 0)\n",
      "2025-04-30 14:14:26,119 - bs4.dammit - WARNING - Some characters could not be decoded, and were replaced with REPLACEMENT CHARACTER.\n",
      "2025-04-30 14:14:26,179 - deep_research.crawler - INFO - Crawling https://en.as.com/soccer/arsenal-vs-psg-live-online-score-stats-goals-updates-champions-league-semifinal-n/ (depth 0)\n",
      "2025-04-30 14:14:29,355 - deep_research.crawler - INFO - Crawling https://www.msn.com/en-us/sports/soccer/arsenal-vs-psg-live-champions-league-match-stream-latest-score-updates-after-dembele-goal/ar-AA1DRcG2 (depth 0)\n",
      "2025-04-30 14:14:29,827 - deep_research.crawler - INFO - Crawling https://talksport.com/football/3162013/arsenal-psg-live-result-reaction-highlights-champions-league-arteta-dembele-injury/ (depth 0)\n",
      "2025-04-30 14:14:35,567 - deep_research.crawler - INFO - Crawling https://www.usatoday.com/story/sports/soccer/2025/04/29/arsenal-vs-psg-champions-league-tv-score-highlights/83341774007/ (depth 0)\n",
      "2025-04-30 14:14:35,858 - bs4.dammit - WARNING - Some characters could not be decoded, and were replaced with REPLACEMENT CHARACTER.\n",
      "2025-04-30 14:14:35,914 - deep_research.crawler - INFO - Crawling https://www.independent.co.uk/sport/football/arsenal-psg-live-stream-score-result-champions-league-b2741784.html (depth 0)\n",
      "2025-04-30 14:14:36,289 - bs4.dammit - WARNING - Some characters could not be decoded, and were replaced with REPLACEMENT CHARACTER.\n"
     ]
    }
   ],
   "source": [
    "# Initialize crawler\n",
    "crawler = WebCrawler()\n",
    "\n",
    "# With early stopping enabled (default)\n",
    "results = crawler.crawl_search_results(search_results, query)\n",
    "\n",
    "# Or disable it if you want comprehensive results\n",
    "results = crawler.crawl_search_results(search_results, query, early_stopping=False)"
   ]
  },
  {
   "cell_type": "code",
   "execution_count": 5,
   "id": "d65eed5f",
   "metadata": {},
   "outputs": [
    {
     "name": "stdout",
     "output_type": "stream",
     "text": [
      "Title: Arsenal vs PSG live online: goals, score, updates & stats| Champions League semi final 24/25 - AS USA\n",
      "URL: https://en.as.com/soccer/arsenal-vs-psg-live-online-score-stats-goals-updates-champions-league-semifinal-n/\n",
      "Summary: Dembélé scored the only goal of the game in the first half. Luis Enrique's side dominated the game and will be delighted with the result. Arsenal will now face either Bayern Munich or Real Madrid in the final.\n",
      "Key sentences: ['While there may be frustration from Arsenal, they can have no complaints with the result and a 0-1 scoreline\\xa0is not an unsurmountable deficit to overturn in Paris, where the pressure will be on both teams in another intriguing\\xa0round of Champions League football.', \"Arsenal vs PSG live online: goals, score, updates & stats| Champions League semi final 24/25 Joe Brennan j4brennan Update:  Apr 29th, 2025 18:11 EDT Comment There's new messages Arsenal 0-1 PSG: as it happened A tough night for Arsenal; PSG thrilled with win PSG will be delighted with that result after a strong performance across the 90 minutes away from home.\"]\n",
      "Title: MSN\n",
      "URL: https://www.msn.com/en-us/sports/soccer/arsenal-vs-psg-live-champions-league-match-stream-latest-score-updates-after-dembele-goal/ar-AA1DRcG2\n",
      "Summary: \n",
      "Key sentences: []\n",
      "Title: Arsenal 0-1 PSG LIVE REACTION: Rooney takes aim at 'subdued' fans after Champions League semi-final defeat as Dembele suffers injury | talkSPORT\n",
      "URL: https://talksport.com/football/3162013/arsenal-psg-live-result-reaction-highlights-champions-league-arteta-dembele-injury/\n",
      "Summary: Ousmane Dembele scores with the first kick of the game to silence the Emirates. Mikel Merino thought he'd equalised straight after half-time, but his header was chalked off following a lengthy VAR check. Bradley Barcola and Goncalos Ramos both squandered gilt-edged chances.\n",
      "Key sentences: [\"Mikel Merino thought he'd equalised straight after half-time, but his header was chalked off following a lengthy VAR check.\"]\n",
      "Title: \n",
      "URL: https://www.usatoday.com/story/sports/soccer/2025/04/29/arsenal-vs-psg-champions-league-tv-score-highlights/83341774007/\n",
      "Summary: \n",
      "Key sentences: []\n",
      "Title: \n",
      "URL: https://www.independent.co.uk/sport/football/arsenal-psg-live-stream-score-result-champions-league-b2741784.html\n",
      "Summary: \n",
      "Key sentences: []\n"
     ]
    }
   ],
   "source": [
    "for result in results:\n",
    "    print(f\"Title: {result.title}\")\n",
    "    print(f\"URL: {result.url}\")\n",
    "    print(f\"Summary: {result.summary}\")\n",
    "    print(f\"Key sentences: {result.key_sentences}\")\n",
    "    \n",
    "    # Check if it contains an answer\n",
    "    if result.is_answer:\n",
    "        print(f\"ANSWER FOUND: {result.answer}\")\n",
    "        print(f\"Confidence: {result.answer_confidence}\")\n"
   ]
  }
 ],
 "metadata": {
  "kernelspec": {
   "display_name": ".venv",
   "language": "python",
   "name": "python3"
  },
  "language_info": {
   "codemirror_mode": {
    "name": "ipython",
    "version": 3
   },
   "file_extension": ".py",
   "mimetype": "text/x-python",
   "name": "python",
   "nbconvert_exporter": "python",
   "pygments_lexer": "ipython3",
   "version": "3.12.10"
  }
 },
 "nbformat": 4,
 "nbformat_minor": 5
}
